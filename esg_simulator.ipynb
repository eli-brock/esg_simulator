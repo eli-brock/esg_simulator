{
 "cells": [
  {
   "cell_type": "markdown",
   "metadata": {},
   "source": [
    "If you are using VSCode, simply clone the repository in a container volume. Otherwise, you'll need standard Anaconda packages."
   ]
  },
  {
   "cell_type": "code",
   "execution_count": 1,
   "metadata": {},
   "outputs": [],
   "source": [
    "import pandas as pd\n",
    "import numpy as np\n",
    "import matplotlib.pyplot as plt"
   ]
  },
  {
   "cell_type": "markdown",
   "metadata": {},
   "source": [
    "Helper functions for later"
   ]
  },
  {
   "cell_type": "code",
   "execution_count": 2,
   "metadata": {},
   "outputs": [],
   "source": [
    "def get_dispatch(market, intercept, slope):\n",
    "    dispatch =  np.maximum(\n",
    "        np.minimum(\n",
    "            intercept + slope*market.Bid - market.Capacity.cumsum().shift(fill_value=0),\n",
    "            market.Capacity\n",
    "        ),\n",
    "        0\n",
    "    )\n",
    "    return dispatch\n",
    "\n",
    "def visualize(market, intercept, slope, ax):\n",
    "    ax.step(market.Capacity.cumsum(), market.Bid)\n",
    "    ax.plot([intercept + slope*market.Bid.max(), intercept], [market.Bid.max(), 0])\n",
    "    dispatched = market.loc[market.Dispatch > 0].iloc[-1]\n",
    "    ax.hlines(\n",
    "        dispatched['Total Marginal Cost'] + dispatched.Surplus/dispatched.Dispatch,\n",
    "        ax.get_xlim()[0], ax.get_xlim()[1],\n",
    "        color='black',\n",
    "        linestyle='dashed'\n",
    "    )\n",
    "    print(dispatched['Total Marginal Cost'] + dispatched.Surplus/dispatched.Dispatch)\n",
    "    ax.grid()"
   ]
  },
  {
   "cell_type": "markdown",
   "metadata": {},
   "source": [
    "Load and process portfolio data"
   ]
  },
  {
   "cell_type": "code",
   "execution_count": 3,
   "metadata": {},
   "outputs": [],
   "source": [
    "portfolios = pd.read_excel('ESG Portfolios.xlsx')\n",
    "portfolios.columns = portfolios.iloc[0:3].bfill().iloc[0]\n",
    "portfolios = portfolios.iloc[3:]\n",
    "portfolios = portfolios[portfolios['UNIT NAME'] != 'Totals']\n",
    "portfolios.dropna(axis='index', how='all', inplace=True)\n",
    "portfolios.dropna(axis='columns', how='all', inplace=True)\n",
    "portfolios['portfolio'] = (portfolios.isna().any(axis='columns') * portfolios['UNIT NAME']).replace('', np.NaN).ffill()\n",
    "portfolios.dropna(axis='index', how='any', inplace=True)\n",
    "portfolios.set_index(['Location', 'portfolio', 'UNIT NAME'], inplace=True)\n",
    "portfolios.sort_index(axis='index',level=['Location', 'portfolio'], inplace=True)"
   ]
  },
  {
   "cell_type": "markdown",
   "metadata": {},
   "source": [
    "Load and process profile data"
   ]
  },
  {
   "cell_type": "code",
   "execution_count": 4,
   "metadata": {},
   "outputs": [],
   "source": [
    "profiles = pd.read_excel('ESG Demand Year 2 - Day 4 Update.xlsx', header=2, index_col=[1,0,2])\n",
    "profiles['Load Intercept'] = (profiles['Load Intercept with EVs'] - profiles['Renewables Forecast']).fillna(profiles['Load Intercept'])\n",
    "profiles.drop(columns=['Load Intercept with EVs', 'Renewables Forecast'], inplace=True)\n",
    "profiles.dropna(axis='index', how='any', inplace=True)\n",
    "profiles.sort_index(inplace=True)"
   ]
  },
  {
   "cell_type": "markdown",
   "metadata": {},
   "source": [
    "``simulate`` accepts an hour and a bid, both of which are pandas ``Series`` objects with indices taken from the ``portfolios`` and ``profiles`` objects, respectively. It returns a copy of ``portfolios`` with dispatch and surplus results."
   ]
  },
  {
   "cell_type": "code",
   "execution_count": 5,
   "metadata": {},
   "outputs": [],
   "source": [
    "def simulate_hour(hour, bid, pay_as_bid, transmission_capacity, co2_tax):\n",
    "\n",
    "    results = portfolios.copy()\n",
    "    results['Bid'] = bid\n",
    "    results.sort_values('Bid', inplace=True)\n",
    "    results['Dispatch'] = get_dispatch(results, hour.sum()['Load Intercept'], hour.sum()['Load Slope'])\n",
    "\n",
    "    generation = results.Dispatch.groupby('Location').sum()\n",
    "    consumption = np.linalg.inv(\n",
    "        np.array(\n",
    "            [\n",
    "                np.array([1,-1])*np.array([1/hour.loc[location, 'Load Slope'] for location in hour.index]),\n",
    "                [1, 1]\n",
    "            ]\n",
    "        )\n",
    "    )@np.array(\n",
    "        [\n",
    "            np.array([1, -1])@(hour['Load Intercept']/hour['Load Slope']),\n",
    "            results.Dispatch.sum()\n",
    "        ]\n",
    "    )\n",
    "    shortage = consumption - generation\n",
    "\n",
    "    if np.abs(shortage).mean() >= transmission_capacity:\n",
    "\n",
    "        shortage = transmission_capacity*np.sign(shortage)\n",
    "        results.Dispatch = results.groupby('Location', group_keys=False).apply(\n",
    "            lambda market: get_dispatch(\n",
    "                market, hour.loc[market.name, 'Load Intercept'] \n",
    "                - shortage[market.name], hour.loc[market.name, 'Load Slope']\n",
    "            )\n",
    "        )\n",
    "        generation = results.Dispatch.groupby('Location').sum()\n",
    "        consumption = generation + shortage\n",
    "\n",
    "    price = (consumption - hour['Load Intercept'])/hour['Load Slope']\n",
    "\n",
    "    results['Surplus'] = results.groupby('Location', group_keys=False).apply(\n",
    "        lambda market: market.Dispatch*(\n",
    "            (market.Bid if pay_as_bid else price[market.name]) - market['Total Marginal Cost']\n",
    "        ) \n",
    "    )\n",
    "\n",
    "    results['Profit'] = results.groupby('Location', group_keys=False).apply(\n",
    "        lambda market: market.Surplus\n",
    "        - market.Dispatch*co2_tax*market.CO2\n",
    "        - market['O&M/Day ($)']/4\n",
    "    )\n",
    "    return results"
   ]
  },
  {
   "cell_type": "markdown",
   "metadata": {},
   "source": [
    "A wrapper function to simulate a full year given a bid profile"
   ]
  },
  {
   "cell_type": "code",
   "execution_count": 6,
   "metadata": {},
   "outputs": [],
   "source": [
    "def simulate(bids):\n",
    "    return profiles.groupby(['Day', 'Hour']).apply(\n",
    "        lambda hour: simulate_hour(\n",
    "            hour = hour.droplevel(['Day', 'Hour']), \n",
    "            bid = bids[hour.name],\n",
    "            pay_as_bid = hour.name[0] == 1,\n",
    "            transmission_capacity = 500 if hour.name[0] == 2 else 10000,\n",
    "            co2_tax = 50*(hour.name[0] == 3)\n",
    "        )\n",
    "    )"
   ]
  },
  {
   "cell_type": "markdown",
   "metadata": {},
   "source": [
    "As a baseline, bid marginal cost every hour."
   ]
  },
  {
   "cell_type": "code",
   "execution_count": 7,
   "metadata": {},
   "outputs": [],
   "source": [
    "bids = pd.DataFrame(\n",
    "    {\n",
    "        (day, hour): portfolios['Total Marginal Cost'] \n",
    "        + portfolios.CO2*50*(day == 3)\n",
    "        for (day, hour) in profiles.index.droplevel('Location')\n",
    "        }\n",
    ")\n",
    "bids.columns.rename(profiles.index.droplevel('Location').names, inplace=True)"
   ]
  },
  {
   "cell_type": "markdown",
   "metadata": {},
   "source": [
    "To run a scenario, modify ``bids`` and then run ``simulate(bids)``. ``bids`` has the following format, which must be kept the same - only modify the values!"
   ]
  },
  {
   "cell_type": "code",
   "execution_count": 8,
   "metadata": {},
   "outputs": [],
   "source": [
    "results = simulate(bids)"
   ]
  },
  {
   "cell_type": "markdown",
   "metadata": {},
   "source": [
    "For the first hour, each generator with marginal cost less than the clearing price bids the clearing price (minus one cent). The resulting profit values are the results in the competitive case, which are a lower bound on our expected profits."
   ]
  },
  {
   "cell_type": "code",
   "execution_count": 9,
   "metadata": {},
   "outputs": [],
   "source": [
    "prices = results.loc[1].groupby('Hour').apply(\n",
    "    lambda market: market[market.Dispatch > 0].iloc[-1]\n",
    ")\n",
    "prices = prices['Total Marginal Cost'] + prices.Surplus/prices.Dispatch\n",
    "bids[1] = bids[1].apply(lambda row: np.maximum(row, prices-.01), axis='columns')\n",
    "\n",
    "profiles.loc[(['North', 'South'], 1), 'Load Intercept'] *= 1.09/.97\n",
    "results = simulate(bids)"
   ]
  },
  {
   "cell_type": "code",
   "execution_count": 10,
   "metadata": {},
   "outputs": [
    {
     "name": "stderr",
     "output_type": "stream",
     "text": [
      "/tmp/ipykernel_12637/2304226521.py:11: PerformanceWarning: indexing past lexsort depth may impact performance.\n",
      "  if new_results.loc[day,hour,price_setter.name[0],price_setter.name[1]].Surplus.sum() >= market.loc[price_setter.name[0],price_setter.name[1]].Surplus.sum():\n"
     ]
    },
    {
     "name": "stdout",
     "output_type": "stream",
     "text": [
      "('North', 'Fossil Light', 'HUNTERS POINT 4')\n"
     ]
    },
    {
     "name": "stderr",
     "output_type": "stream",
     "text": [
      "/tmp/ipykernel_12637/2304226521.py:11: PerformanceWarning: indexing past lexsort depth may impact performance.\n",
      "  if new_results.loc[day,hour,price_setter.name[0],price_setter.name[1]].Surplus.sum() >= market.loc[price_setter.name[0],price_setter.name[1]].Surplus.sum():\n"
     ]
    },
    {
     "name": "stdout",
     "output_type": "stream",
     "text": [
      "('South', 'Beachfront', 'ELLWOOD')\n"
     ]
    },
    {
     "name": "stderr",
     "output_type": "stream",
     "text": [
      "/tmp/ipykernel_12637/2304226521.py:11: PerformanceWarning: indexing past lexsort depth may impact performance.\n",
      "  if new_results.loc[day,hour,price_setter.name[0],price_setter.name[1]].Surplus.sum() >= market.loc[price_setter.name[0],price_setter.name[1]].Surplus.sum():\n"
     ]
    },
    {
     "name": "stdout",
     "output_type": "stream",
     "text": [
      "('South', 'Big Gas', 'KEARNY')\n"
     ]
    },
    {
     "name": "stderr",
     "output_type": "stream",
     "text": [
      "/tmp/ipykernel_12637/2304226521.py:11: PerformanceWarning: indexing past lexsort depth may impact performance.\n",
      "  if new_results.loc[day,hour,price_setter.name[0],price_setter.name[1]].Surplus.sum() >= market.loc[price_setter.name[0],price_setter.name[1]].Surplus.sum():\n"
     ]
    },
    {
     "name": "stdout",
     "output_type": "stream",
     "text": [
      "('South', 'Big Coal', 'ALAMITOS 7')\n"
     ]
    },
    {
     "name": "stderr",
     "output_type": "stream",
     "text": [
      "/tmp/ipykernel_12637/2304226521.py:11: PerformanceWarning: indexing past lexsort depth may impact performance.\n",
      "  if new_results.loc[day,hour,price_setter.name[0],price_setter.name[1]].Surplus.sum() >= market.loc[price_setter.name[0],price_setter.name[1]].Surplus.sum():\n"
     ]
    },
    {
     "name": "stdout",
     "output_type": "stream",
     "text": [
      "('North', 'East Bay', 'POTRERO HILL')\n"
     ]
    },
    {
     "name": "stderr",
     "output_type": "stream",
     "text": [
      "/tmp/ipykernel_12637/2304226521.py:11: PerformanceWarning: indexing past lexsort depth may impact performance.\n",
      "  if new_results.loc[day,hour,price_setter.name[0],price_setter.name[1]].Surplus.sum() >= market.loc[price_setter.name[0],price_setter.name[1]].Surplus.sum():\n"
     ]
    },
    {
     "name": "stdout",
     "output_type": "stream",
     "text": [
      "('South', 'Big Coal', 'HUNTINGTON BEACH 5')\n"
     ]
    },
    {
     "name": "stderr",
     "output_type": "stream",
     "text": [
      "/tmp/ipykernel_12637/2304226521.py:11: PerformanceWarning: indexing past lexsort depth may impact performance.\n",
      "  if new_results.loc[day,hour,price_setter.name[0],price_setter.name[1]].Surplus.sum() >= market.loc[price_setter.name[0],price_setter.name[1]].Surplus.sum():\n"
     ]
    },
    {
     "name": "stdout",
     "output_type": "stream",
     "text": [
      "('South', 'Big Gas', 'NORTH ISLAND')\n"
     ]
    },
    {
     "name": "stderr",
     "output_type": "stream",
     "text": [
      "/tmp/ipykernel_12637/2304226521.py:11: PerformanceWarning: indexing past lexsort depth may impact performance.\n",
      "  if new_results.loc[day,hour,price_setter.name[0],price_setter.name[1]].Surplus.sum() >= market.loc[price_setter.name[0],price_setter.name[1]].Surplus.sum():\n"
     ]
    },
    {
     "name": "stdout",
     "output_type": "stream",
     "text": [
      "('South', 'Beachfront', 'ETIWANDA 5')\n"
     ]
    },
    {
     "name": "stderr",
     "output_type": "stream",
     "text": [
      "/tmp/ipykernel_12637/2304226521.py:11: PerformanceWarning: indexing past lexsort depth may impact performance.\n",
      "  if new_results.loc[day,hour,price_setter.name[0],price_setter.name[1]].Surplus.sum() >= market.loc[price_setter.name[0],price_setter.name[1]].Surplus.sum():\n"
     ]
    },
    {
     "name": "stdout",
     "output_type": "stream",
     "text": [
      "('North', 'Bay Views', 'OAKLAND')\n"
     ]
    },
    {
     "name": "stderr",
     "output_type": "stream",
     "text": [
      "/tmp/ipykernel_12637/2304226521.py:11: PerformanceWarning: indexing past lexsort depth may impact performance.\n",
      "  if new_results.loc[day,hour,price_setter.name[0],price_setter.name[1]].Surplus.sum() >= market.loc[price_setter.name[0],price_setter.name[1]].Surplus.sum():\n"
     ]
    },
    {
     "name": "stdout",
     "output_type": "stream",
     "text": [
      "('North', 'East Bay', 'PITTSBURGH 7')\n"
     ]
    },
    {
     "name": "stderr",
     "output_type": "stream",
     "text": [
      "/tmp/ipykernel_12637/2304226521.py:11: PerformanceWarning: indexing past lexsort depth may impact performance.\n",
      "  if new_results.loc[day,hour,price_setter.name[0],price_setter.name[1]].Surplus.sum() >= market.loc[price_setter.name[0],price_setter.name[1]].Surplus.sum():\n"
     ]
    }
   ],
   "source": [
    "day = 4\n",
    "hour = 4\n",
    "\n",
    "# Uncomment to run heuristic market power algorithm\n",
    "# equilibrium = False\n",
    "# while not equilibrium:\n",
    "#     market = results.loc[day,hour]\n",
    "#     price_setter = market[market.Dispatch > 0].iloc[-1]\n",
    "#     new_bids = bids.copy()\n",
    "#     new_bids.loc[price_setter.name,(day,hour)] = 500\n",
    "#     new_results = simulate(new_bids)\n",
    "#     if new_results.loc[day,hour,price_setter.name[0],price_setter.name[1]].Surplus.sum() >= market.loc[price_setter.name[0],price_setter.name[1]].Surplus.sum():\n",
    "#         bids = new_bids\n",
    "#         results = new_results\n",
    "#         print(price_setter.name)\n",
    "#     else:\n",
    "#         equilibrium = True\n",
    "\n",
    "# results = simulate(bids)"
   ]
  },
  {
   "cell_type": "code",
   "execution_count": 11,
   "metadata": {},
   "outputs": [
    {
     "name": "stdout",
     "output_type": "stream",
     "text": [
      "352.7810537023996\n"
     ]
    },
    {
     "data": {
      "image/png": "[encoded data removed]",
      "text/plain": [
       "<Figure size 640x480 with 1 Axes>"
      ]
     },
     "metadata": {},
     "output_type": "display_data"
    }
   ],
   "source": [
    "fig, ax = plt.subplots()\n",
    "hour_results = results.loc[day, hour]\n",
    "(intercept, slope) = profiles.loc[(['North', 'South'], day, hour)].sum()\n",
    "visualize(hour_results, intercept, slope, ax)\n",
    "fig.show()"
   ]
  }
 ],
 "metadata": {
  "kernelspec": {
   "display_name": "base",
   "language": "python",
   "name": "python3"
  },
  "language_info": {
   "codemirror_mode": {
    "name": "ipython",
    "version": 3
   },
   "file_extension": ".py",
   "mimetype": "text/x-python",
   "name": "python",
   "nbconvert_exporter": "python",
   "pygments_lexer": "ipython3",
   "version": "3.9.13"
  }
 },
 "nbformat": 4,
 "nbformat_minor": 2
}
