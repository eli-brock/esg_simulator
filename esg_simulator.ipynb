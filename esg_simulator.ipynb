{
 "cells": [
  {
   "cell_type": "markdown",
   "metadata": {},
   "source": [
    "If you are using VSCode, simply clone the repository in a container volume. Otherwise, you'll need standard Anaconda packages."
   ]
  },
  {
   "cell_type": "code",
   "execution_count": 1,
   "metadata": {},
   "outputs": [],
   "source": [
    "import pandas as pd\n",
    "import numpy as np\n",
    "import matplotlib.pyplot as plt"
   ]
  },
  {
   "cell_type": "markdown",
   "metadata": {},
   "source": [
    "Helper functions for later"
   ]
  },
  {
   "cell_type": "code",
   "execution_count": 2,
   "metadata": {},
   "outputs": [],
   "source": [
    "def get_dispatch(market, intercept, slope):\n",
    "    return np.maximum(\n",
    "        np.minimum(\n",
    "            intercept + slope*market.Bid - market.Capacity.cumsum().shift(fill_value=0),\n",
    "            market.Capacity\n",
    "        ),\n",
    "        0\n",
    "    )\n",
    "\n",
    "def visualize(market, intercept, slope, ax):\n",
    "    ax.step(market.Capacity.cumsum(), market.Bid, where='pre')\n",
    "    ax.plot([intercept + slope*market.Bid.max(), intercept], [market.Bid.max(), 0])\n",
    "    dispatched = market.loc[market.Dispatch > 0]\n",
    "    ax.hlines(\n",
    "        (dispatched['Total Marginal Cost'] + dispatched.Surplus/dispatched.Dispatch).mean(),\n",
    "        ax.get_xlim()[0], ax.get_xlim()[1],\n",
    "        color='black',\n",
    "        linestyle='dashed'\n",
    "    )\n",
    "    ax.grid()"
   ]
  },
  {
   "cell_type": "markdown",
   "metadata": {},
   "source": [
    "Load and process portfolio data"
   ]
  },
  {
   "cell_type": "code",
   "execution_count": 3,
   "metadata": {},
   "outputs": [],
   "source": [
    "portfolios = pd.read_excel('ESG Portfolios.xlsx')\n",
    "portfolios.columns = portfolios.iloc[0:3].bfill().iloc[0]\n",
    "portfolios = portfolios.iloc[3:]\n",
    "portfolios = portfolios[portfolios['UNIT NAME'] != 'Totals']\n",
    "portfolios.dropna(axis='index', how='all', inplace=True)\n",
    "portfolios.dropna(axis='columns', how='all', inplace=True)\n",
    "portfolios['portfolio'] = (portfolios.isna().any(axis='columns') * portfolios['UNIT NAME']).replace('', np.NaN).ffill()\n",
    "portfolios.dropna(axis='index', how='any', inplace=True)\n",
    "portfolios.set_index(['Location', 'portfolio', 'UNIT NAME'], inplace=True)\n",
    "portfolios.sort_index(axis='index',level=['Location', 'portfolio'], inplace=True)"
   ]
  },
  {
   "cell_type": "markdown",
   "metadata": {},
   "source": [
    "Load and process profile data"
   ]
  },
  {
   "cell_type": "code",
   "execution_count": 4,
   "metadata": {},
   "outputs": [],
   "source": [
    "profiles = pd.read_excel('ESG Demand Year 2.xlsx', header=2, index_col=[1,0,2])\n",
    "profiles.dropna(axis='index', how='any', inplace=True)\n",
    "profiles.sort_index(inplace=True)"
   ]
  },
  {
   "cell_type": "markdown",
   "metadata": {},
   "source": [
    "``simulate`` accepts an hour and a bid, both of which are pandas ``Series`` objects with indices taken from the ``portfolios`` and ``profiles`` objects, respectively. It returns a copy of ``portfolios`` with dispatch and surplus results."
   ]
  },
  {
   "cell_type": "code",
   "execution_count": 5,
   "metadata": {},
   "outputs": [],
   "source": [
    "def simulate(hour, bid, transmission_capacity, co2_tax):\n",
    "\n",
    "    results = portfolios.copy()\n",
    "    results['Bid'] = bid\n",
    "    results.sort_values('Bid', inplace=True)\n",
    "    results['Dispatch'] = get_dispatch(results, hour.sum()['Load Intercept'], hour.sum()['Load Slope'])\n",
    "\n",
    "    generation = results.Dispatch.groupby('Location').sum()\n",
    "    consumption = np.linalg.inv(\n",
    "        np.array(\n",
    "            [\n",
    "                np.array([1,-1])*np.array([1/hour.loc[location, 'Load Slope'] for location in hour.index]),\n",
    "                [1, 1]\n",
    "            ]\n",
    "        )\n",
    "    )@np.array(\n",
    "        [\n",
    "            np.array([1, -1])@(hour['Load Intercept']/hour['Load Slope']),\n",
    "            results.Dispatch.sum()\n",
    "        ]\n",
    "    )\n",
    "    shortage = consumption - generation\n",
    "\n",
    "    if np.abs(shortage).mean() >= transmission_capacity:\n",
    "\n",
    "        shortage = transmission_capacity*np.sign(shortage)\n",
    "        results.Dispatch = results.groupby('Location', group_keys=False).apply(\n",
    "            lambda market: get_dispatch(\n",
    "                market, hour.loc[market.name, 'Load Intercept'] \n",
    "                - shortage[market.name], hour.loc[market.name, 'Load Slope']\n",
    "            )\n",
    "        )\n",
    "        generation = results.Dispatch.groupby('Location').sum()\n",
    "        consumption = generation + shortage\n",
    "\n",
    "    price = (consumption - hour['Load Intercept'])/hour['Load Slope']\n",
    "\n",
    "    results['Surplus'] = results.groupby('Location', group_keys=False).apply(\n",
    "        lambda market: market.Dispatch*(\n",
    "            price[market.name] - market['Total Marginal Cost']\n",
    "        ) \n",
    "    )\n",
    "\n",
    "    results['Profit'] = results.groupby('Location', group_keys=False).apply(\n",
    "        lambda market: market.Surplus\n",
    "        - market.Dispatch*(co2_tax*market.CO2) \n",
    "        - market['O&M/Day ($)']/4\n",
    "    )\n",
    "    return results"
   ]
  },
  {
   "cell_type": "markdown",
   "metadata": {},
   "source": [
    "Simulate full year"
   ]
  },
  {
   "cell_type": "code",
   "execution_count": 6,
   "metadata": {},
   "outputs": [],
   "source": [
    "results = profiles.groupby(['Day', 'Hour']).apply(\n",
    "    lambda hour: simulate(\n",
    "        hour = hour.droplevel(['Day', 'Hour']), \n",
    "        bid = portfolios['Total Marginal Cost'] + portfolios.CO2*(50 if hour.name[0] == 3 else 0),\n",
    "        transmission_capacity = 500 if hour.name[0] == 2 else 10000,\n",
    "        co2_tax = 50 if hour.name[0] == 3 else 0\n",
    "    )\n",
    ")"
   ]
  },
  {
   "cell_type": "code",
   "execution_count": 7,
   "metadata": {},
   "outputs": [
    {
     "data": {
      "text/plain": [
       "portfolio\n",
       "Bay Views        514675.425072\n",
       "Beachfront       492553.366314\n",
       "Big Coal         480119.738713\n",
       "Big Gas          417571.503522\n",
       "East Bay         272908.006724\n",
       "Fossil Light    1250216.764889\n",
       "Old Timers      1044485.947807\n",
       "Name: Profit, dtype: object"
      ]
     },
     "execution_count": 7,
     "metadata": {},
     "output_type": "execute_result"
    }
   ],
   "source": [
    "results.Profit.groupby('portfolio').sum()"
   ]
  },
  {
   "cell_type": "markdown",
   "metadata": {},
   "source": [
    "Plot the north and south markets together. This kind of analysis makes sense for days 1, 2, and 4."
   ]
  },
  {
   "cell_type": "code",
   "execution_count": 8,
   "metadata": {},
   "outputs": [
    {
     "data": {
      "image/png": "[encoded data removed]",
      "text/plain": [
       "<Figure size 640x480 with 1 Axes>"
      ]
     },
     "metadata": {},
     "output_type": "display_data"
    }
   ],
   "source": [
    "fig, ax = plt.subplots()\n",
    "day = 1\n",
    "hour = 1\n",
    "hour_results = results.loc[day, hour]\n",
    "(intercept, slope) = profiles.loc[(['North', 'South'], day, hour)].sum()\n",
    "visualize(hour_results, intercept, slope, ax)\n",
    "fig.show()"
   ]
  },
  {
   "cell_type": "markdown",
   "metadata": {},
   "source": [
    "Plot the north and south markets seperately."
   ]
  },
  {
   "cell_type": "code",
   "execution_count": 9,
   "metadata": {},
   "outputs": [
    {
     "data": {
      "image/png": "[encoded data removed]",
      "text/plain": [
       "<Figure size 1280x480 with 2 Axes>"
      ]
     },
     "metadata": {},
     "output_type": "display_data"
    }
   ],
   "source": [
    "fig, ax = plt.subplots(1,2,sharey=True)\n",
    "fig.set_size_inches(fig.get_size_inches()*[2,1])\n",
    "day = 2\n",
    "hour = 1\n",
    "hour_results = results.loc[day, hour]\n",
    "(intercept, slope) = profiles.loc[(['North', 'South'], day, hour)]\n",
    "[\n",
    "    visualize(\n",
    "        market, \n",
    "        profiles.loc[(location, day, hour),'Load Intercept'], \n",
    "        profiles.loc[(location, day, hour),'Load Slope'],  \n",
    "        ax[i]\n",
    "    ) \n",
    "    for i, (location, market) in enumerate(hour_results.groupby('Location'))\n",
    "]\n",
    "fig.show()"
   ]
  }
 ],
 "metadata": {
  "kernelspec": {
   "display_name": "base",
   "language": "python",
   "name": "python3"
  },
  "language_info": {
   "codemirror_mode": {
    "name": "ipython",
    "version": 3
   },
   "file_extension": ".py",
   "mimetype": "text/x-python",
   "name": "python",
   "nbconvert_exporter": "python",
   "pygments_lexer": "ipython3",
   "version": "3.9.13"
  }
 },
 "nbformat": 4,
 "nbformat_minor": 2
}
