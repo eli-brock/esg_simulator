{
 "cells": [
  {
   "cell_type": "code",
   "execution_count": 1,
   "metadata": {},
   "outputs": [],
   "source": [
    "import pandas as pd\n",
    "import numpy as np\n",
    "import matplotlib.pyplot as plt"
   ]
  },
  {
   "cell_type": "markdown",
   "metadata": {},
   "source": [
    "Reformat portfolio data. For this cell to run correctly, ``ESG Portfolios.xlsx`` must be the unmodified file from bCourses."
   ]
  },
  {
   "cell_type": "code",
   "execution_count": 2,
   "metadata": {},
   "outputs": [],
   "source": [
    "portfolios = pd.read_excel('ESG Portfolios.xlsx')\n",
    "portfolios.columns = portfolios.iloc[0:3].fillna(method='bfill').iloc[0]\n",
    "portfolios = portfolios.iloc[3:]\n",
    "portfolios = portfolios[portfolios['UNIT NAME'] != 'Totals']\n",
    "portfolios.dropna(axis='index', how='all', inplace=True)\n",
    "portfolios.dropna(axis='columns', how='all', inplace=True)\n",
    "portfolios['portfolio'] = (portfolios.isna().any(axis='columns') * portfolios['UNIT NAME']).replace('', np.NaN).fillna(method='ffill')\n",
    "portfolios.dropna(axis='index', how='any', inplace=True)\n",
    "portfolios.set_index(['Location', 'portfolio', 'UNIT NAME'], inplace=True)\n",
    "portfolios.sort_index(axis='index',level=['Location', 'portfolio'], inplace=True)"
   ]
  },
  {
   "cell_type": "markdown",
   "metadata": {},
   "source": [
    "Process demand profile data. As for the portfolios, the filename and contents should be unmodified from bCourses."
   ]
  },
  {
   "cell_type": "code",
   "execution_count": 3,
   "metadata": {},
   "outputs": [],
   "source": [
    "profiles = pd.read_excel('ESG Demand Year 2.xlsx', header=2, index_col=[1,0,2])\n",
    "profiles.dropna(axis='index', how='any', inplace=True)\n",
    "profiles.sort_index(inplace=True)"
   ]
  },
  {
   "cell_type": "markdown",
   "metadata": {},
   "source": [
    "As a baseline, assume each generator bids marginal cost. In general, the ``Bid`` column can be chosen to test any bid profile, though the column name must not be changed."
   ]
  },
  {
   "cell_type": "code",
   "execution_count": 4,
   "metadata": {},
   "outputs": [],
   "source": [
    "portfolios['Bid'] = portfolios['Total Marginal Cost']"
   ]
  },
  {
   "cell_type": "markdown",
   "metadata": {},
   "source": [
    "Define a function to perform a dispatch in an isolated market with no transmission"
   ]
  },
  {
   "cell_type": "code",
   "execution_count": 5,
   "metadata": {},
   "outputs": [],
   "source": [
    "def location_dispatch(market, intercept, slope):\n",
    "    market.sort_values(by='Bid', inplace=True)\n",
    "    market['Dispatch'] = np.maximum(\n",
    "        np.minimum(\n",
    "            intercept + slope*market.Bid - market.Capacity.cumsum().shift(fill_value=0), \n",
    "            market.Capacity\n",
    "        ), \n",
    "        0\n",
    "    )\n",
    "    return market"
   ]
  },
  {
   "cell_type": "markdown",
   "metadata": {},
   "source": [
    "Define a function to dispatch both regions"
   ]
  },
  {
   "cell_type": "code",
   "execution_count": 6,
   "metadata": {},
   "outputs": [],
   "source": [
    "def codispatch(market, profile):\n",
    "\n",
    "    # Perform initial dispatch without transmission\n",
    "    market = market.groupby(level = 'Location', group_keys=False).apply(\n",
    "        lambda df: location_dispatch(\n",
    "            df, \n",
    "            intercept=profile.loc[df.name,'Load Intercept'],\n",
    "            slope=profile.loc[df.name,'Load Slope']\n",
    "        )\n",
    "    )\n",
    "\n",
    "    return market"
   ]
  },
  {
   "cell_type": "code",
   "execution_count": 7,
   "metadata": {},
   "outputs": [],
   "source": [
    "def transmission_capacity(market, line_limit):\n",
    "    bids = np.minimum((market.Capacity - market.Dispatch).cumsum(), line_limit)\n",
    "    market.Capacity = bids.diff().fillna(bids)\n",
    "    market = market[market.Capacity != 0]\n",
    "    return market"
   ]
  },
  {
   "cell_type": "code",
   "execution_count": 8,
   "metadata": {},
   "outputs": [],
   "source": [
    "def dispatch(market, profile):\n",
    "\n",
    "    market = codispatch(market, profile)\n",
    "\n",
    "    market = market.groupby(level='Location').apply(\n",
    "        lambda df: pd.concat(\n",
    "            [\n",
    "                df,\n",
    "                transmission_capacity(\n",
    "                    market.loc[market.index.get_level_values('Location') != df.name],\n",
    "                    10000\n",
    "                )\n",
    "            ]\n",
    "        )\n",
    "    )\n",
    "    market.index.rename('Origin', level=1, inplace=True)\n",
    "    market = codispatch(market, profile)\n",
    "\n",
    "    print(profile)\n",
    "    profile['Load Intercept'] += market.loc[market.index.get_level_values('Location') != market.index.get_level_values('Origin')].Dispatch.groupby('Origin').sum()\n",
    "    print(profile)\n",
    "\n",
    "    market = codispatch(market, profile)\n",
    "\n",
    "    return (market, profile)"
   ]
  },
  {
   "cell_type": "markdown",
   "metadata": {},
   "source": [
    "Run simulation for hour 1, day 1, both regions. For now, assume there is no transmission capacity."
   ]
  },
  {
   "cell_type": "code",
   "execution_count": 9,
   "metadata": {},
   "outputs": [
    {
     "name": "stdout",
     "output_type": "stream",
     "text": [
      "          Load Intercept  Load Slope\n",
      "Location                            \n",
      "North        3628.112566   -3.359991\n",
      "South        8126.964877   -3.035355\n",
      "         Load Intercept  Load Slope\n",
      "Location                           \n",
      "North       5535.180938   -3.359991\n",
      "South       8126.964877   -3.035355\n"
     ]
    }
   ],
   "source": [
    "first_hour = profiles.loc[(['North', 'South'], 1, 1)].droplevel(['Day', 'Hour'])\n",
    "(portfolios, first_hour) = dispatch(portfolios, first_hour)"
   ]
  },
  {
   "cell_type": "code",
   "execution_count": 10,
   "metadata": {},
   "outputs": [
    {
     "data": {
      "text/html": [
       "<div>\n",
       "<style scoped>\n",
       "    .dataframe tbody tr th:only-of-type {\n",
       "        vertical-align: middle;\n",
       "    }\n",
       "\n",
       "    .dataframe tbody tr th {\n",
       "        vertical-align: top;\n",
       "    }\n",
       "\n",
       "    .dataframe thead th {\n",
       "        text-align: right;\n",
       "    }\n",
       "</style>\n",
       "<table border=\"1\" class=\"dataframe\">\n",
       "  <thead>\n",
       "    <tr style=\"text-align: right;\">\n",
       "      <th></th>\n",
       "      <th>Load Intercept</th>\n",
       "      <th>Load Slope</th>\n",
       "    </tr>\n",
       "    <tr>\n",
       "      <th>Location</th>\n",
       "      <th></th>\n",
       "      <th></th>\n",
       "    </tr>\n",
       "  </thead>\n",
       "  <tbody>\n",
       "    <tr>\n",
       "      <th>North</th>\n",
       "      <td>5535.180938</td>\n",
       "      <td>-3.359991</td>\n",
       "    </tr>\n",
       "    <tr>\n",
       "      <th>South</th>\n",
       "      <td>8126.964877</td>\n",
       "      <td>-3.035355</td>\n",
       "    </tr>\n",
       "  </tbody>\n",
       "</table>\n",
       "</div>"
      ],
      "text/plain": [
       "         Load Intercept  Load Slope\n",
       "Location                           \n",
       "North       5535.180938   -3.359991\n",
       "South       8126.964877   -3.035355"
      ]
     },
     "execution_count": 10,
     "metadata": {},
     "output_type": "execute_result"
    }
   ],
   "source": [
    "first_hour"
   ]
  },
  {
   "cell_type": "code",
   "execution_count": 27,
   "metadata": {},
   "outputs": [
    {
     "data": {
      "image/png": "[encoded data removed]",
      "text/plain": [
       "<Figure size 1280x480 with 2 Axes>"
      ]
     },
     "metadata": {},
     "output_type": "display_data"
    }
   ],
   "source": [
    "fig, ax = plt.subplots(1,2)\n",
    "for i, (name, market) in enumerate(portfolios.groupby('Location')):\n",
    "    intercept = first_hour.loc[name,'Load Intercept']\n",
    "    slope = first_hour.loc[name,'Load Slope']\n",
    "    ax[i].step(market.Capacity.cumsum(), market.Bid, where='post')\n",
    "    ax[i].plot([intercept + slope*market.Bid.max(), intercept], [market.Bid.max(), 0])\n",
    "    ax[i].grid()\n",
    "    ax[i].set_title(name)\n",
    "[a.set_ylim(ax[np.argmax([a.get_ylim()[1] for a in ax])].get_ylim()) for a in ax]\n",
    "[a.hlines(36.61,0,20000,linestyle='--') for a in ax]\n",
    "fig.set_size_inches(fig.get_size_inches()*[2,1])\n",
    "fig.show()"
   ]
  },
  {
   "cell_type": "code",
   "execution_count": null,
   "metadata": {},
   "outputs": [],
   "source": []
  }
 ],
 "metadata": {
  "kernelspec": {
   "display_name": "Python 3",
   "language": "python",
   "name": "python3"
  },
  "language_info": {
   "codemirror_mode": {
    "name": "ipython",
    "version": 3
   },
   "file_extension": ".py",
   "mimetype": "text/x-python",
   "name": "python",
   "nbconvert_exporter": "python",
   "pygments_lexer": "ipython3",
   "version": "3.9.13"
  }
 },
 "nbformat": 4,
 "nbformat_minor": 2
}
